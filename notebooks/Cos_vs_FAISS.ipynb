{
 "cells": [
  {
   "cell_type": "code",
   "execution_count": 3,
   "metadata": {},
   "outputs": [],
   "source": [
    "from PIL import Image\n",
    "import os\n",
    "import numpy as np\n",
    "import json\n",
    "from sklearn.metrics.pairwise import cosine_similarity\n",
    "import random\n",
    "import faiss\n",
    "import pickle"
   ]
  },
  {
   "cell_type": "code",
   "execution_count": 4,
   "metadata": {},
   "outputs": [],
   "source": [
    "# load image embedding vectorsv dict, keys: item_id, values: embedding vectors\n",
    "with open(\"embedding_dict.pkl\", \"rb\") as f:\n",
    "    embedding_dict = pickle.load(f)\n",
    "\n",
    "img_embeddings = np.array(list(embedding_dict.values()))"
   ]
  },
  {
   "cell_type": "code",
   "execution_count": 11,
   "metadata": {},
   "outputs": [],
   "source": [
    "idx = 23 # index of query vector\n",
    "k = 5  # number of nearest neighbours\n",
    "query_vector = img_embeddings[idx]"
   ]
  },
  {
   "cell_type": "code",
   "execution_count": 14,
   "metadata": {},
   "outputs": [
    {
     "name": "stdout",
     "output_type": "stream",
     "text": [
      "Indices of nearest neighbors: [43 52  6 32 29 92]\n"
     ]
    }
   ],
   "source": [
    "# FAISS\n",
    "dimension = 1000\n",
    "index = faiss.IndexFlatL2(dimension)\n",
    "index.add(img_embeddings)\n",
    "D, I = index.search(np.array([query_vector]), k+1)\n",
    "\n",
    "# Print the results\n",
    "print(\"Indices of nearest neighbors:\", I.flatten()[1:])"
   ]
  },
  {
   "cell_type": "code",
   "execution_count": 15,
   "metadata": {},
   "outputs": [
    {
     "name": "stdout",
     "output_type": "stream",
     "text": [
      "6 nearest neighbors indices of item[23] are items: [43  6 52 32 29 92]\n"
     ]
    }
   ],
   "source": [
    "# Cos \n",
    "cosine_similarities = cosine_similarity(img_embeddings)\n",
    "\n",
    "nearest_neighbors_indices = np.argsort(cosine_similarities[idx])[-(k+1):-1][::-1]\n",
    "\n",
    "print(f'{k} nearest neighbors indices of item[{idx}] are items: {nearest_neighbors_indices}')\n",
    "#print(f'For img {image_files[idx]}, model recommends img {image_files[nearest_neighbors_indices[0]]}')\n"
   ]
  },
  {
   "cell_type": "code",
   "execution_count": null,
   "metadata": {},
   "outputs": [],
   "source": []
  },
  {
   "cell_type": "code",
   "execution_count": null,
   "metadata": {},
   "outputs": [],
   "source": []
  },
  {
   "cell_type": "code",
   "execution_count": null,
   "metadata": {},
   "outputs": [],
   "source": []
  }
 ],
 "metadata": {
  "kernelspec": {
   "display_name": "tiny",
   "language": "python",
   "name": "python3"
  },
  "language_info": {
   "codemirror_mode": {
    "name": "ipython",
    "version": 3
   },
   "file_extension": ".py",
   "mimetype": "text/x-python",
   "name": "python",
   "nbconvert_exporter": "python",
   "pygments_lexer": "ipython3",
   "version": "3.8.17"
  },
  "orig_nbformat": 4
 },
 "nbformat": 4,
 "nbformat_minor": 2
}
