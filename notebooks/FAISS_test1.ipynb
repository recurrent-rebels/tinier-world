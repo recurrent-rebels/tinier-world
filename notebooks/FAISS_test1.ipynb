{
 "cells": [
  {
   "cell_type": "code",
   "execution_count": 1,
   "metadata": {},
   "outputs": [],
   "source": [
    "import faiss\n",
    "import pickle\n",
    "import numpy as np"
   ]
  },
  {
   "cell_type": "code",
   "execution_count": 11,
   "metadata": {},
   "outputs": [
    {
     "data": {
      "text/plain": [
       "(100, 1000)"
      ]
     },
     "execution_count": 11,
     "metadata": {},
     "output_type": "execute_result"
    }
   ],
   "source": [
    "# load image embedding vectors\n",
    "with open(\"embedding_dict.pkl\", \"rb\") as f:\n",
    "    embedding_dict = pickle.load(f)\n",
    "\n",
    "img_embeddings = np.array(list(embedding_dict.values()))\n",
    "type(img_embeddings)\n",
    "img_embeddings.shape"
   ]
  },
  {
   "cell_type": "code",
   "execution_count": 3,
   "metadata": {},
   "outputs": [],
   "source": [
    "dimension = 1000\n",
    "index = faiss.IndexFlatL2(dimension)\n",
    "index.add(img_embeddings)\n"
   ]
  },
  {
   "cell_type": "code",
   "execution_count": 4,
   "metadata": {},
   "outputs": [
    {
     "name": "stdout",
     "output_type": "stream",
     "text": [
      "Indices of nearest neighbors: [[23 43 52  6 32 29]]\n"
     ]
    }
   ],
   "source": [
    "idx = 23\n",
    "k = 6  # number of nearest neighbours\n",
    "query_vector = img_embeddings[idx]\n",
    "# Perform similarity search\n",
    "D, I = index.search(np.array([query_vector]), k)\n",
    "\n",
    "# Print the results\n",
    "print(\"Indices of nearest neighbors:\", I)"
   ]
  },
  {
   "cell_type": "code",
   "execution_count": 5,
   "metadata": {},
   "outputs": [
    {
     "data": {
      "text/plain": [
       "array([43, 52,  6, 32, 29])"
      ]
     },
     "execution_count": 5,
     "metadata": {},
     "output_type": "execute_result"
    }
   ],
   "source": [
    "top5_item_idx = I.flatten()[1:]\n",
    "top5_item_idx"
   ]
  },
  {
   "cell_type": "code",
   "execution_count": 6,
   "metadata": {},
   "outputs": [
    {
     "data": {
      "text/plain": [
       "['f4b46a7d-68c3-4535-b5df-52fdb19ad301',\n",
       " 'e14c4b33-b1e5-42a4-920d-b1c10a5a5545',\n",
       " '6e7451a4-8461-421d-92f6-85d0356d21a3',\n",
       " 'c32b333f-39c1-4a74-83b3-4b20396b66ce',\n",
       " '5724e7ac-8cdd-453e-b223-b5e74ed28964']"
      ]
     },
     "execution_count": 6,
     "metadata": {},
     "output_type": "execute_result"
    }
   ],
   "source": [
    "top5_recommend_item_id = []\n",
    "\n",
    "for idx in top5_item_idx:\n",
    "    key = list(embedding_dict.keys())[idx]\n",
    "    top5_recommend_item_id.append(key)\n",
    "\n",
    "top5_recommend_item_id"
   ]
  },
  {
   "cell_type": "code",
   "execution_count": null,
   "metadata": {},
   "outputs": [],
   "source": []
  }
 ],
 "metadata": {
  "kernelspec": {
   "display_name": "tiny",
   "language": "python",
   "name": "python3"
  },
  "language_info": {
   "codemirror_mode": {
    "name": "ipython",
    "version": 3
   },
   "file_extension": ".py",
   "mimetype": "text/x-python",
   "name": "python",
   "nbconvert_exporter": "python",
   "pygments_lexer": "ipython3",
   "version": "3.8.17"
  },
  "orig_nbformat": 4
 },
 "nbformat": 4,
 "nbformat_minor": 2
}
