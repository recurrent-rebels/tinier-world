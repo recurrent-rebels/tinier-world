{
 "cells": [
  {
   "cell_type": "code",
   "execution_count": 41,
   "metadata": {},
   "outputs": [],
   "source": [
    "import faiss\n",
    "import pickle\n",
    "import numpy as np"
   ]
  },
  {
   "cell_type": "code",
   "execution_count": 42,
   "metadata": {},
   "outputs": [],
   "source": [
    "# load image embedding vectors\n",
    "with open(\"embedding_dict.pkl\", \"rb\") as f:\n",
    "    embedding_dict = pickle.load(f)\n",
    "\n",
    "img_embeddings = np.array(list(embedding_dict.values()))"
   ]
  },
  {
   "cell_type": "code",
   "execution_count": 43,
   "metadata": {},
   "outputs": [],
   "source": [
    "dimension = 1000\n",
    "index = faiss.IndexFlatL2(dimension)\n",
    "index.add(img_embeddings)"
   ]
  },
  {
   "cell_type": "code",
   "execution_count": 44,
   "metadata": {},
   "outputs": [
    {
     "name": "stdout",
     "output_type": "stream",
     "text": [
      "Indices of nearest neighbors: [[ 0 11 77 93 74 94]]\n"
     ]
    }
   ],
   "source": [
    "query_vector = img_embeddings[0]\n",
    "k = 6  # number of nearest neighbours\n",
    "\n",
    "# Perform similarity search\n",
    "D, I = index.search(np.array([query_vector]), k)\n",
    "\n",
    "# Print the results\n",
    "print(\"Indices of nearest neighbors:\", I)"
   ]
  },
  {
   "cell_type": "code",
   "execution_count": 45,
   "metadata": {},
   "outputs": [
    {
     "data": {
      "text/plain": [
       "array([11, 77, 93, 74, 94])"
      ]
     },
     "execution_count": 45,
     "metadata": {},
     "output_type": "execute_result"
    }
   ],
   "source": [
    "top5_item_idx = I.flatten()[1:]\n",
    "top5_item_idx"
   ]
  },
  {
   "cell_type": "code",
   "execution_count": 47,
   "metadata": {},
   "outputs": [
    {
     "data": {
      "text/plain": [
       "['45c7f58d-d564-463b-87b8-87ff48e8744e',\n",
       " '51370bd3-fc2c-4916-849f-3f57045da45b',\n",
       " '7f1dd59b-a93c-482f-81c0-c82c8240ff8d',\n",
       " 'fe989606-abb7-4e62-9747-a13547b8659a',\n",
       " '48cabdcf-ac46-4259-b934-cb8e39b1ab9d']"
      ]
     },
     "execution_count": 47,
     "metadata": {},
     "output_type": "execute_result"
    }
   ],
   "source": [
    "top5_recommend_item_id = []\n",
    "\n",
    "for idx in top5_item_idx:\n",
    "    key = list(embedding_dict.keys())[idx]\n",
    "    top5_recommend_item_id.append(key)\n",
    "\n",
    "top5_recommend_item_id"
   ]
  },
  {
   "cell_type": "code",
   "execution_count": null,
   "metadata": {},
   "outputs": [],
   "source": []
  }
 ],
 "metadata": {
  "kernelspec": {
   "display_name": "tiny",
   "language": "python",
   "name": "python3"
  },
  "language_info": {
   "codemirror_mode": {
    "name": "ipython",
    "version": 3
   },
   "file_extension": ".py",
   "mimetype": "text/x-python",
   "name": "python",
   "nbconvert_exporter": "python",
   "pygments_lexer": "ipython3",
   "version": "3.8.17"
  },
  "orig_nbformat": 4
 },
 "nbformat": 4,
 "nbformat_minor": 2
}
