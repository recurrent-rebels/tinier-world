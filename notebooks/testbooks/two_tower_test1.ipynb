{
 "cells": [
  {
   "cell_type": "code",
   "execution_count": 44,
   "id": "bfe020f0",
   "metadata": {},
   "outputs": [],
   "source": [
    "import torch\n",
    "import torch.nn as nn\n",
    "import torch.optim as optim\n",
    "from torch.utils.data import DataLoader, Dataset\n",
    "from sklearn.metrics.pairwise import cosine_similarity\n",
    "import random\n",
    "import torch.nn.functional as F\n",
    "import os\n",
    "import numpy as np\n",
    "import psycopg2\n",
    "import torch\n",
    "import torch.nn as nn\n",
    "from sklearn.preprocessing import LabelEncoder, StandardScaler\n",
    "from psycopg2.extras import DictCursor\n",
    "import pandas as pd\n",
    "from sklearn.preprocessing import MinMaxScaler"
   ]
  },
  {
   "cell_type": "code",
   "execution_count": 45,
   "id": "9b06f494",
   "metadata": {},
   "outputs": [],
   "source": [
    "# save to user_data\n",
    "connection = psycopg2.connect(host=\"localhost\", user=\"root\", port=5432, database=\"W9sV6cL2dX\", password=\"E5rG7tY3fH\")\n",
    "cursor = connection.cursor(cursor_factory=DictCursor)"
   ]
  },
  {
   "cell_type": "code",
   "execution_count": 46,
   "id": "bd3e2a67",
   "metadata": {},
   "outputs": [],
   "source": [
    "\n",
    "select_query = \"SELECT ts.user_id, ts.item_id, ts.time_spent, u.*, ie.* \\\n",
    "FROM time_spent AS ts \\\n",
    "JOIN users AS u ON ts.user_id = u.id \\\n",
    "JOIN item_embeddings AS ie ON ts.item_id = ie.item_id;\"\n",
    "cursor.execute(select_query)\n",
    "data = cursor.fetchall()\n"
   ]
  },
  {
   "cell_type": "code",
   "execution_count": 47,
   "id": "c31810e3",
   "metadata": {},
   "outputs": [
    {
     "data": {
      "text/html": [
       "<div>\n",
       "<style scoped>\n",
       "    .dataframe tbody tr th:only-of-type {\n",
       "        vertical-align: middle;\n",
       "    }\n",
       "\n",
       "    .dataframe tbody tr th {\n",
       "        vertical-align: top;\n",
       "    }\n",
       "\n",
       "    .dataframe thead th {\n",
       "        text-align: right;\n",
       "    }\n",
       "</style>\n",
       "<table border=\"1\" class=\"dataframe\">\n",
       "  <thead>\n",
       "    <tr style=\"text-align: right;\">\n",
       "      <th></th>\n",
       "      <th>user_id</th>\n",
       "      <th>item_id</th>\n",
       "      <th>time_spent</th>\n",
       "      <th>gender</th>\n",
       "      <th>country</th>\n",
       "      <th>age</th>\n",
       "      <th>embedding</th>\n",
       "    </tr>\n",
       "  </thead>\n",
       "  <tbody>\n",
       "    <tr>\n",
       "      <th>0</th>\n",
       "      <td>46763</td>\n",
       "      <td>ccc300bb-12bd-4e22-98dc-10527a54b57d</td>\n",
       "      <td>0</td>\n",
       "      <td>female</td>\n",
       "      <td>BayesianBourg</td>\n",
       "      <td>18.0</td>\n",
       "      <td>[-1.1809731721878052, -0.7340627312660217, -0....</td>\n",
       "    </tr>\n",
       "    <tr>\n",
       "      <th>1</th>\n",
       "      <td>38208</td>\n",
       "      <td>c8e5623c-40a1-44a5-b64a-49c2c26507e9</td>\n",
       "      <td>0</td>\n",
       "      <td>female</td>\n",
       "      <td>BayesianBourg</td>\n",
       "      <td>34.0</td>\n",
       "      <td>[-1.1892468929290771, 0.1926315873861313, 1.13...</td>\n",
       "    </tr>\n",
       "    <tr>\n",
       "      <th>2</th>\n",
       "      <td>42734</td>\n",
       "      <td>c8e5623c-40a1-44a5-b64a-49c2c26507e9</td>\n",
       "      <td>0</td>\n",
       "      <td>female</td>\n",
       "      <td>Neuropolis</td>\n",
       "      <td>27.0</td>\n",
       "      <td>[-1.1892468929290771, 0.1926315873861313, 1.13...</td>\n",
       "    </tr>\n",
       "  </tbody>\n",
       "</table>\n",
       "</div>"
      ],
      "text/plain": [
       "   user_id                               item_id  time_spent  gender  \\\n",
       "0    46763  ccc300bb-12bd-4e22-98dc-10527a54b57d           0  female   \n",
       "1    38208  c8e5623c-40a1-44a5-b64a-49c2c26507e9           0  female   \n",
       "2    42734  c8e5623c-40a1-44a5-b64a-49c2c26507e9           0  female   \n",
       "\n",
       "         country   age                                          embedding  \n",
       "0  BayesianBourg  18.0  [-1.1809731721878052, -0.7340627312660217, -0....  \n",
       "1  BayesianBourg  34.0  [-1.1892468929290771, 0.1926315873861313, 1.13...  \n",
       "2     Neuropolis  27.0  [-1.1892468929290771, 0.1926315873861313, 1.13...  "
      ]
     },
     "execution_count": 47,
     "metadata": {},
     "output_type": "execute_result"
    }
   ],
   "source": [
    "data_col = ['user_id','item_id', 'time_spent','id' ,'gender', 'country', 'age', 'item_id2','embedding','time_stamp']\n",
    "data_df = pd.DataFrame(data, columns=data_col)\n",
    "data_df = data_df.drop(columns=['id', 'time_stamp', 'item_id2'])\n",
    "data_df[:3]"
   ]
  },
  {
   "cell_type": "code",
   "execution_count": 48,
   "id": "cdc84d8c",
   "metadata": {},
   "outputs": [
    {
     "name": "stdout",
     "output_type": "stream",
     "text": [
      "(28060, 11)\n"
     ]
    },
    {
     "data": {
      "text/html": [
       "<div>\n",
       "<style scoped>\n",
       "    .dataframe tbody tr th:only-of-type {\n",
       "        vertical-align: middle;\n",
       "    }\n",
       "\n",
       "    .dataframe tbody tr th {\n",
       "        vertical-align: top;\n",
       "    }\n",
       "\n",
       "    .dataframe thead th {\n",
       "        text-align: right;\n",
       "    }\n",
       "</style>\n",
       "<table border=\"1\" class=\"dataframe\">\n",
       "  <thead>\n",
       "    <tr style=\"text-align: right;\">\n",
       "      <th></th>\n",
       "      <th>user_id</th>\n",
       "      <th>item_id</th>\n",
       "      <th>time_spent</th>\n",
       "      <th>gender</th>\n",
       "      <th>country</th>\n",
       "      <th>age</th>\n",
       "      <th>embedding</th>\n",
       "      <th>gender_encode</th>\n",
       "      <th>country_encode</th>\n",
       "      <th>age_normalized</th>\n",
       "      <th>time_normalized</th>\n",
       "    </tr>\n",
       "  </thead>\n",
       "  <tbody>\n",
       "    <tr>\n",
       "      <th>0</th>\n",
       "      <td>46763</td>\n",
       "      <td>ccc300bb-12bd-4e22-98dc-10527a54b57d</td>\n",
       "      <td>0</td>\n",
       "      <td>female</td>\n",
       "      <td>BayesianBourg</td>\n",
       "      <td>18.0</td>\n",
       "      <td>[-1.1809731721878052, -0.7340627312660217, -0....</td>\n",
       "      <td>0</td>\n",
       "      <td>2</td>\n",
       "      <td>0.178947</td>\n",
       "      <td>0.0</td>\n",
       "    </tr>\n",
       "    <tr>\n",
       "      <th>1</th>\n",
       "      <td>38208</td>\n",
       "      <td>c8e5623c-40a1-44a5-b64a-49c2c26507e9</td>\n",
       "      <td>0</td>\n",
       "      <td>female</td>\n",
       "      <td>BayesianBourg</td>\n",
       "      <td>34.0</td>\n",
       "      <td>[-1.1892468929290771, 0.1926315873861313, 1.13...</td>\n",
       "      <td>0</td>\n",
       "      <td>2</td>\n",
       "      <td>0.347368</td>\n",
       "      <td>0.0</td>\n",
       "    </tr>\n",
       "    <tr>\n",
       "      <th>2</th>\n",
       "      <td>42734</td>\n",
       "      <td>c8e5623c-40a1-44a5-b64a-49c2c26507e9</td>\n",
       "      <td>0</td>\n",
       "      <td>female</td>\n",
       "      <td>Neuropolis</td>\n",
       "      <td>27.0</td>\n",
       "      <td>[-1.1892468929290771, 0.1926315873861313, 1.13...</td>\n",
       "      <td>0</td>\n",
       "      <td>5</td>\n",
       "      <td>0.273684</td>\n",
       "      <td>0.0</td>\n",
       "    </tr>\n",
       "  </tbody>\n",
       "</table>\n",
       "</div>"
      ],
      "text/plain": [
       "   user_id                               item_id  time_spent  gender  \\\n",
       "0    46763  ccc300bb-12bd-4e22-98dc-10527a54b57d           0  female   \n",
       "1    38208  c8e5623c-40a1-44a5-b64a-49c2c26507e9           0  female   \n",
       "2    42734  c8e5623c-40a1-44a5-b64a-49c2c26507e9           0  female   \n",
       "\n",
       "         country   age                                          embedding  \\\n",
       "0  BayesianBourg  18.0  [-1.1809731721878052, -0.7340627312660217, -0....   \n",
       "1  BayesianBourg  34.0  [-1.1892468929290771, 0.1926315873861313, 1.13...   \n",
       "2     Neuropolis  27.0  [-1.1892468929290771, 0.1926315873861313, 1.13...   \n",
       "\n",
       "   gender_encode  country_encode  age_normalized  time_normalized  \n",
       "0              0               2        0.178947              0.0  \n",
       "1              0               2        0.347368              0.0  \n",
       "2              0               5        0.273684              0.0  "
      ]
     },
     "execution_count": 48,
     "metadata": {},
     "output_type": "execute_result"
    }
   ],
   "source": [
    "countries = list(set(data_df.country))\n",
    "genders = list(set(data_df.gender))\n",
    "gender_encoder = LabelEncoder()\n",
    "gender_encoder.fit(genders)\n",
    "country_encoder = LabelEncoder()\n",
    "country_encoder.fit(countries)\n",
    "age_scaler = MinMaxScaler()\n",
    "time_scaler = MinMaxScaler()\n",
    "\n",
    "data_df['gender_encode'] = gender_encoder.transform(data_df['gender'])\n",
    "data_df['country_encode'] = country_encoder.transform(data_df['country'])\n",
    "data_df['age_normalized'] = age_scaler.fit_transform(data_df[['age']])\n",
    "data_df['time_normalized'] = age_scaler.fit_transform(data_df[['time_spent']])\n",
    "data_df = data_df.dropna()\n",
    "print(data_df.shape)\n",
    "data_df[:3]"
   ]
  },
  {
   "cell_type": "code",
   "execution_count": 49,
   "id": "bdb1c889",
   "metadata": {},
   "outputs": [
    {
     "data": {
      "text/html": [
       "<div>\n",
       "<style scoped>\n",
       "    .dataframe tbody tr th:only-of-type {\n",
       "        vertical-align: middle;\n",
       "    }\n",
       "\n",
       "    .dataframe tbody tr th {\n",
       "        vertical-align: top;\n",
       "    }\n",
       "\n",
       "    .dataframe thead th {\n",
       "        text-align: right;\n",
       "    }\n",
       "</style>\n",
       "<table border=\"1\" class=\"dataframe\">\n",
       "  <thead>\n",
       "    <tr style=\"text-align: right;\">\n",
       "      <th></th>\n",
       "      <th>user_id</th>\n",
       "      <th>item_id</th>\n",
       "      <th>time_spent</th>\n",
       "      <th>gender</th>\n",
       "      <th>country</th>\n",
       "      <th>age</th>\n",
       "      <th>embedding</th>\n",
       "      <th>gender_encode</th>\n",
       "      <th>country_encode</th>\n",
       "      <th>age_normalized</th>\n",
       "      <th>time_normalized</th>\n",
       "    </tr>\n",
       "  </thead>\n",
       "  <tbody>\n",
       "    <tr>\n",
       "      <th>0</th>\n",
       "      <td>46763</td>\n",
       "      <td>ccc300bb-12bd-4e22-98dc-10527a54b57d</td>\n",
       "      <td>0</td>\n",
       "      <td>female</td>\n",
       "      <td>BayesianBourg</td>\n",
       "      <td>18.0</td>\n",
       "      <td>[-1.1809731721878052, -0.7340627312660217, -0....</td>\n",
       "      <td>0</td>\n",
       "      <td>2</td>\n",
       "      <td>0.178947</td>\n",
       "      <td>0.0</td>\n",
       "    </tr>\n",
       "    <tr>\n",
       "      <th>1</th>\n",
       "      <td>38208</td>\n",
       "      <td>c8e5623c-40a1-44a5-b64a-49c2c26507e9</td>\n",
       "      <td>0</td>\n",
       "      <td>female</td>\n",
       "      <td>BayesianBourg</td>\n",
       "      <td>34.0</td>\n",
       "      <td>[-1.1892468929290771, 0.1926315873861313, 1.13...</td>\n",
       "      <td>0</td>\n",
       "      <td>2</td>\n",
       "      <td>0.347368</td>\n",
       "      <td>0.0</td>\n",
       "    </tr>\n",
       "    <tr>\n",
       "      <th>2</th>\n",
       "      <td>42734</td>\n",
       "      <td>c8e5623c-40a1-44a5-b64a-49c2c26507e9</td>\n",
       "      <td>0</td>\n",
       "      <td>female</td>\n",
       "      <td>Neuropolis</td>\n",
       "      <td>27.0</td>\n",
       "      <td>[-1.1892468929290771, 0.1926315873861313, 1.13...</td>\n",
       "      <td>0</td>\n",
       "      <td>5</td>\n",
       "      <td>0.273684</td>\n",
       "      <td>0.0</td>\n",
       "    </tr>\n",
       "  </tbody>\n",
       "</table>\n",
       "</div>"
      ],
      "text/plain": [
       "   user_id                               item_id  time_spent  gender  \\\n",
       "0    46763  ccc300bb-12bd-4e22-98dc-10527a54b57d           0  female   \n",
       "1    38208  c8e5623c-40a1-44a5-b64a-49c2c26507e9           0  female   \n",
       "2    42734  c8e5623c-40a1-44a5-b64a-49c2c26507e9           0  female   \n",
       "\n",
       "         country   age                                          embedding  \\\n",
       "0  BayesianBourg  18.0  [-1.1809731721878052, -0.7340627312660217, -0....   \n",
       "1  BayesianBourg  34.0  [-1.1892468929290771, 0.1926315873861313, 1.13...   \n",
       "2     Neuropolis  27.0  [-1.1892468929290771, 0.1926315873861313, 1.13...   \n",
       "\n",
       "   gender_encode  country_encode  age_normalized  time_normalized  \n",
       "0              0               2        0.178947              0.0  \n",
       "1              0               2        0.347368              0.0  \n",
       "2              0               5        0.273684              0.0  "
      ]
     },
     "execution_count": 49,
     "metadata": {},
     "output_type": "execute_result"
    }
   ],
   "source": [
    "data_df[:3]"
   ]
  },
  {
   "cell_type": "code",
   "execution_count": 59,
   "id": "bbec4a3a",
   "metadata": {},
   "outputs": [],
   "source": [
    "user_features_df = data_df[['user_id', 'gender_encode', 'country_encode', 'age_normalized']]\n",
    "user_features_df.to_csv('user_features_df.csv')"
   ]
  },
  {
   "cell_type": "code",
   "execution_count": 50,
   "id": "55f0bd56",
   "metadata": {},
   "outputs": [],
   "source": [
    "user_features = data_df[['gender_encode', 'country_encode', 'age_normalized']]\n",
    "item_features = data_df.apply(lambda row: row['embedding'], axis=1)\n",
    "targets = data_df['time_normalized']"
   ]
  },
  {
   "cell_type": "code",
   "execution_count": 52,
   "id": "cea19bcd",
   "metadata": {},
   "outputs": [],
   "source": [
    "user_features = torch.tensor(user_features.values, dtype=torch.float32)\n",
    "item_features = [torch.tensor(item, dtype=torch.float32) for item in item_features]\n",
    "targets = torch.tensor(targets.values, dtype=torch.float32)"
   ]
  },
  {
   "cell_type": "code",
   "execution_count": 53,
   "id": "86626afd",
   "metadata": {},
   "outputs": [
    {
     "data": {
      "text/plain": [
       "(torch.Size([28060, 3]), 28060)"
      ]
     },
     "execution_count": 53,
     "metadata": {},
     "output_type": "execute_result"
    }
   ],
   "source": [
    "user_features.shape, len(item_features)"
   ]
  },
  {
   "cell_type": "code",
   "execution_count": 54,
   "id": "fc5884c5",
   "metadata": {},
   "outputs": [
    {
     "data": {
      "text/plain": [
       "(torch.Tensor, torch.Tensor, torch.Tensor)"
      ]
     },
     "execution_count": 54,
     "metadata": {},
     "output_type": "execute_result"
    }
   ],
   "source": [
    "type(user_features), type(item_features[1]), type(targets)"
   ]
  },
  {
   "cell_type": "code",
   "execution_count": null,
   "id": "521fbd2e",
   "metadata": {},
   "outputs": [],
   "source": []
  },
  {
   "cell_type": "code",
   "execution_count": 55,
   "id": "c9037c32",
   "metadata": {},
   "outputs": [],
   "source": [
    "def seed_everything(seed=42):\n",
    "    random.seed(seed)\n",
    "    torch.manual_seed(seed) #for CPU\n",
    "    torch.cuda.manual_seed(seed) #for GPU\n",
    "    torch.backends.cudnn.deterministic = True\n",
    "\n",
    "\n",
    "# Two-tower model architecture\n",
    "class TwoTowerNetwork(nn.Module):\n",
    "    def __init__(self, user_input_dim, item_input_dim, output_dim):\n",
    "        super(TwoTowerNetwork, self).__init__()\n",
    "\n",
    "        hidden_dim = 128  # example value, adjust based on your requirement\n",
    "\n",
    "        # User tower\n",
    "        self.user_tower = nn.Sequential(\n",
    "            nn.Linear(user_input_dim, hidden_dim),\n",
    "            nn.ReLU(),\n",
    "            nn.Linear(hidden_dim, output_dim)\n",
    "        )\n",
    "\n",
    "        # Item tower\n",
    "        self.item_tower = nn.Sequential(\n",
    "            nn.Linear(item_input_dim, hidden_dim),\n",
    "            nn.ReLU(),\n",
    "            nn.Linear(hidden_dim, output_dim)\n",
    "        )\n",
    "\n",
    "\n",
    "    def forward(self, user_input, item_input):\n",
    "        # User tower\n",
    "        user_output = self.user_tower(user_input)\n",
    "\n",
    "        # Item tower\n",
    "        item_output = self.item_tower(item_input)\n",
    "\n",
    "        # Normalize the embeddings (this is necessary for cosine similarity)\n",
    "        user_output = F.normalize(user_output, dim=1)\n",
    "        item_output = F.normalize(item_output, dim=1)\n",
    "        \n",
    "        return user_output, item_output\n",
    "    \n",
    "\n",
    "# Custom dataset\n",
    "class CustomDataset(Dataset):\n",
    "    def __init__(self, user_features, item_features, targets):\n",
    "        self.user_features = user_features\n",
    "        self.item_features = item_features\n",
    "        self.targets = targets\n",
    "        \n",
    "    def __len__(self):\n",
    "        return len(self.targets)\n",
    "    \n",
    "    def __getitem__(self, idx):\n",
    "        return self.user_features[idx], self.item_features[idx], self.targets[idx]"
   ]
  },
  {
   "cell_type": "code",
   "execution_count": 56,
   "id": "476360b7",
   "metadata": {},
   "outputs": [],
   "source": [
    "# Hyperparameters\n",
    "user_feature_dim = 3 # age, F/M, country\n",
    "item_feature_dim = 1000 # item_id, item_type, item_features\n",
    "embedding_dim = 100\n",
    "batch_size = 4\n",
    "learning_rate = 0.001\n",
    "num_epochs = 10\n",
    "seed_everything(seed=666)"
   ]
  },
  {
   "cell_type": "code",
   "execution_count": 57,
   "id": "0b5ea3e8",
   "metadata": {},
   "outputs": [],
   "source": [
    "# Create the two-tower model\n",
    "model = TwoTowerNetwork(user_feature_dim, item_feature_dim, embedding_dim)\n",
    "\n",
    "# Create the custom dataset and data loader\n",
    "dataset = CustomDataset(user_features, item_features, targets)\n",
    "data_loader = DataLoader(dataset, batch_size=batch_size, shuffle=True)\n",
    "\n",
    "# Initialize the optimizer and loss function\n",
    "optimizer = optim.Adam(model.parameters(), lr=learning_rate)\n",
    "criterion = nn.MSELoss()"
   ]
  },
  {
   "cell_type": "code",
   "execution_count": 58,
   "id": "bd4381fd",
   "metadata": {
    "scrolled": true
   },
   "outputs": [
    {
     "name": "stderr",
     "output_type": "stream",
     "text": [
      "/root/miniconda3/envs/tiny/lib/python3.8/site-packages/torch/nn/modules/loss.py:536: UserWarning: Using a target size (torch.Size([4])) that is different to the input size (torch.Size([4, 1])). This will likely lead to incorrect results due to broadcasting. Please ensure they have the same size.\n",
      "  return F.mse_loss(input, target, reduction=self.reduction)\n"
     ]
    },
    {
     "name": "stdout",
     "output_type": "stream",
     "text": [
      "Epoch 1/10, Loss: 0.06145546868289486\n",
      "Epoch 2/10, Loss: 0.06132980184251189\n",
      "Epoch 3/10, Loss: 0.061328608342999004\n",
      "Epoch 4/10, Loss: 0.06132832756279274\n",
      "Epoch 5/10, Loss: 0.061328226976237354\n"
     ]
    },
    {
     "ename": "KeyboardInterrupt",
     "evalue": "",
     "output_type": "error",
     "traceback": [
      "\u001b[0;31m---------------------------------------------------------------------------\u001b[0m",
      "\u001b[0;31mKeyboardInterrupt\u001b[0m                         Traceback (most recent call last)",
      "Cell \u001b[0;32mIn[58], line 13\u001b[0m\n\u001b[1;32m     11\u001b[0m prob \u001b[39m=\u001b[39m torch\u001b[39m.\u001b[39msigmoid(cos_sim\u001b[39m.\u001b[39munsqueeze(\u001b[39m1\u001b[39m))\n\u001b[1;32m     12\u001b[0m loss \u001b[39m=\u001b[39m criterion(prob, targets)\n\u001b[0;32m---> 13\u001b[0m loss\u001b[39m.\u001b[39;49mbackward()\n\u001b[1;32m     14\u001b[0m optimizer\u001b[39m.\u001b[39mstep()\n\u001b[1;32m     15\u001b[0m total_loss \u001b[39m+\u001b[39m\u001b[39m=\u001b[39m loss\u001b[39m.\u001b[39mitem()\n",
      "File \u001b[0;32m~/miniconda3/envs/tiny/lib/python3.8/site-packages/torch/_tensor.py:487\u001b[0m, in \u001b[0;36mTensor.backward\u001b[0;34m(self, gradient, retain_graph, create_graph, inputs)\u001b[0m\n\u001b[1;32m    477\u001b[0m \u001b[39mif\u001b[39;00m has_torch_function_unary(\u001b[39mself\u001b[39m):\n\u001b[1;32m    478\u001b[0m     \u001b[39mreturn\u001b[39;00m handle_torch_function(\n\u001b[1;32m    479\u001b[0m         Tensor\u001b[39m.\u001b[39mbackward,\n\u001b[1;32m    480\u001b[0m         (\u001b[39mself\u001b[39m,),\n\u001b[0;32m   (...)\u001b[0m\n\u001b[1;32m    485\u001b[0m         inputs\u001b[39m=\u001b[39minputs,\n\u001b[1;32m    486\u001b[0m     )\n\u001b[0;32m--> 487\u001b[0m torch\u001b[39m.\u001b[39;49mautograd\u001b[39m.\u001b[39;49mbackward(\n\u001b[1;32m    488\u001b[0m     \u001b[39mself\u001b[39;49m, gradient, retain_graph, create_graph, inputs\u001b[39m=\u001b[39;49minputs\n\u001b[1;32m    489\u001b[0m )\n",
      "File \u001b[0;32m~/miniconda3/envs/tiny/lib/python3.8/site-packages/torch/autograd/__init__.py:200\u001b[0m, in \u001b[0;36mbackward\u001b[0;34m(tensors, grad_tensors, retain_graph, create_graph, grad_variables, inputs)\u001b[0m\n\u001b[1;32m    195\u001b[0m     retain_graph \u001b[39m=\u001b[39m create_graph\n\u001b[1;32m    197\u001b[0m \u001b[39m# The reason we repeat same the comment below is that\u001b[39;00m\n\u001b[1;32m    198\u001b[0m \u001b[39m# some Python versions print out the first line of a multi-line function\u001b[39;00m\n\u001b[1;32m    199\u001b[0m \u001b[39m# calls in the traceback and some print out the last line\u001b[39;00m\n\u001b[0;32m--> 200\u001b[0m Variable\u001b[39m.\u001b[39;49m_execution_engine\u001b[39m.\u001b[39;49mrun_backward(  \u001b[39m# Calls into the C++ engine to run the backward pass\u001b[39;49;00m\n\u001b[1;32m    201\u001b[0m     tensors, grad_tensors_, retain_graph, create_graph, inputs,\n\u001b[1;32m    202\u001b[0m     allow_unreachable\u001b[39m=\u001b[39;49m\u001b[39mTrue\u001b[39;49;00m, accumulate_grad\u001b[39m=\u001b[39;49m\u001b[39mTrue\u001b[39;49;00m)\n",
      "\u001b[0;31mKeyboardInterrupt\u001b[0m: "
     ]
    }
   ],
   "source": [
    "# Training loop\n",
    "for epoch in range(num_epochs):\n",
    "    total_loss = 0.0\n",
    "    for user_feats, item_feats, targets in data_loader:\n",
    "        model.train()\n",
    "        optimizer.zero_grad()\n",
    "        \n",
    "        user_embeds, item_embeds = model(user_feats, item_feats)\n",
    "    \n",
    "        cos_sim = nn.functional.cosine_similarity(user_embeds, item_embeds)\n",
    "        prob = torch.sigmoid(cos_sim.unsqueeze(1))\n",
    "        loss = criterion(prob, targets)\n",
    "        loss.backward()\n",
    "        optimizer.step()\n",
    "        total_loss += loss.item()\n",
    "    \n",
    "    print(f\"Epoch {epoch+1}/{num_epochs}, Loss: {total_loss/len(data_loader)}\")"
   ]
  },
  {
   "cell_type": "code",
   "execution_count": null,
   "id": "663ce4ca",
   "metadata": {},
   "outputs": [],
   "source": [
    "save_path = '/root/tinier-world/notebooks/testbooks/models/'\n",
    "torch.save(model.state_dict(), save_path + 'two_tower_model_ver1.pth')"
   ]
  },
  {
   "cell_type": "code",
   "execution_count": null,
   "id": "bf40aa0e",
   "metadata": {},
   "outputs": [
    {
     "data": {
      "text/plain": [
       "TwoTowerNetwork(\n",
       "  (user_tower): Sequential(\n",
       "    (0): Linear(in_features=3, out_features=128, bias=True)\n",
       "    (1): ReLU()\n",
       "    (2): Linear(in_features=128, out_features=100, bias=True)\n",
       "  )\n",
       "  (item_tower): Sequential(\n",
       "    (0): Linear(in_features=1000, out_features=128, bias=True)\n",
       "    (1): ReLU()\n",
       "    (2): Linear(in_features=128, out_features=100, bias=True)\n",
       "  )\n",
       ")"
      ]
     },
     "execution_count": 27,
     "metadata": {},
     "output_type": "execute_result"
    }
   ],
   "source": [
    "save_path = '/root/tinier-world/notebooks/testbooks/models/'\n",
    "loaded_model = TwoTowerNetwork(user_feature_dim, item_feature_dim, embedding_dim)\n",
    "loaded_model.load_state_dict(torch.load(save_path + 'two_tower_model_ver1.pth'))\n",
    "loaded_model.eval()"
   ]
  },
  {
   "cell_type": "code",
   "execution_count": null,
   "id": "5eca85f7",
   "metadata": {},
   "outputs": [],
   "source": []
  },
  {
   "cell_type": "code",
   "execution_count": null,
   "id": "9c91b030",
   "metadata": {},
   "outputs": [],
   "source": []
  },
  {
   "cell_type": "code",
   "execution_count": null,
   "id": "cdf12377",
   "metadata": {},
   "outputs": [],
   "source": []
  }
 ],
 "metadata": {
  "kernelspec": {
   "display_name": "tiny",
   "language": "python",
   "name": "python3"
  },
  "language_info": {
   "codemirror_mode": {
    "name": "ipython",
    "version": 3
   },
   "file_extension": ".py",
   "mimetype": "text/x-python",
   "name": "python",
   "nbconvert_exporter": "python",
   "pygments_lexer": "ipython3",
   "version": "3.8.17"
  }
 },
 "nbformat": 4,
 "nbformat_minor": 5
}
