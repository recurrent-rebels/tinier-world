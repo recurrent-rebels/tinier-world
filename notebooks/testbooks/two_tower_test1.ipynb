{
 "cells": [
  {
   "cell_type": "code",
   "execution_count": 1,
   "id": "bfe020f0",
   "metadata": {},
   "outputs": [],
   "source": [
    "import torch\n",
    "import torch.nn as nn\n",
    "import torch.optim as optim\n",
    "from torch.utils.data import DataLoader, Dataset\n",
    "from sklearn.metrics.pairwise import cosine_similarity\n",
    "import random\n",
    "import torch.nn.functional as F"
   ]
  },
  {
   "cell_type": "code",
   "execution_count": 2,
   "id": "c9037c32",
   "metadata": {},
   "outputs": [],
   "source": [
    "def seed_everything(seed=42):\n",
    "    random.seed(seed)\n",
    "    torch.manual_seed(seed) #for CPU\n",
    "    torch.cuda.manual_seed(seed) #for GPU\n",
    "    torch.backends.cudnn.deterministic = True\n",
    "\n",
    "# Two-tower model architecture\n",
    "class TwoTowerModel(nn.Module):\n",
    "    def __init__(self, user_feature_dim, item_feature_dim, embedding_dim):\n",
    "        super(TwoTowerModel, self).__init__()\n",
    "        self.user_embedding_layer = nn.Linear(user_feature_dim, embedding_dim)\n",
    "        self.item_embedding_layer = nn.Linear(item_feature_dim, embedding_dim)\n",
    "        self.batch_norm = nn.BatchNorm1d(embedding_dim)\n",
    "        \n",
    "    def forward(self, user_features, item_features):\n",
    "        user_embeds = self.user_embedding_layer(user_features)\n",
    "        user_embeds = self.batch_norm(user_embeds)\n",
    "       \n",
    "        item_embeds = self.item_embedding_layer(item_features)\n",
    "        item_embeds = self.batch_norm(item_embeds)\n",
    "        return user_embeds, item_embeds\n",
    "\n",
    "# Custom dataset\n",
    "class CustomDataset(Dataset):\n",
    "    def __init__(self, user_features, item_features, targets):\n",
    "        self.user_features = user_features\n",
    "        self.item_features = item_features\n",
    "        self.targets = targets\n",
    "        \n",
    "    def __len__(self):\n",
    "        return len(self.targets)\n",
    "    \n",
    "    def __getitem__(self, idx):\n",
    "        return self.user_features[idx], self.item_features[idx], self.targets[idx]"
   ]
  },
  {
   "cell_type": "code",
   "execution_count": 3,
   "id": "476360b7",
   "metadata": {},
   "outputs": [],
   "source": [
    "# Hyperparameters\n",
    "user_feature_dim = 4 # user_id, age, F/M, country\n",
    "item_feature_dim = 258 # item_id, item_type, item_features\n",
    "embedding_dim = 100\n",
    "batch_size = 32\n",
    "learning_rate = 0.001\n",
    "num_epochs = 50\n",
    "seed_everything(seed=666)"
   ]
  },
  {
   "cell_type": "code",
   "execution_count": 4,
   "id": "6b90be1e",
   "metadata": {},
   "outputs": [],
   "source": [
    "# Sample user features and item features (replace with your actual data)\n",
    "user_features = torch.randn(1000, user_feature_dim)  # Assuming 1000 users with user_feature_dim-dimensional features\n",
    "item_features = torch.randn(1000, item_feature_dim)  # Assuming 1000 items with item_feature_dim-dimensional features\n",
    "\n",
    "# Sample time_spent_on_item as target (replace with your actual data)\n",
    "# Assuming 100 items with a single time_spent_on_item value each (random between 1 and 60 minutes)\n",
    "time_spent_on_item =  [random.randint(1, 60) for _ in range(1000)]\n",
    "min_val = min(time_spent_on_item)\n",
    "max_val = max(time_spent_on_item)\n",
    "time_spent_on_item_normalized = [(val - min_val) / (max_val - min_val) for val in time_spent_on_item]\n",
    "time_spent_on_item_normalized = torch.tensor(time_spent_on_item_normalized, dtype=torch.float32)\n",
    "\n",
    "# time_spent_on_item_converted = [((x - min_val) / (max_val - min_val) - 0.5) * 2 for x in time_spent_on_item]\n",
    "# time_spent_on_item_converted = torch.tensor(time_spent_on_item_converted, dtype=torch.float32)\n",
    "# print(time_spent_on_item[:5], time_spent_on_item_converted[:5])"
   ]
  },
  {
   "cell_type": "code",
   "execution_count": 5,
   "id": "0b5ea3e8",
   "metadata": {},
   "outputs": [],
   "source": [
    "# Create the two-tower model\n",
    "model = TwoTowerModel(user_feature_dim, item_feature_dim, embedding_dim)\n",
    "\n",
    "# Create the custom dataset and data loader\n",
    "dataset = CustomDataset(user_features, item_features, time_spent_on_item_normalized)\n",
    "data_loader = DataLoader(dataset, batch_size=batch_size, shuffle=True)\n",
    "\n",
    "# Initialize the optimizer and loss function\n",
    "optimizer = optim.Adam(model.parameters(), lr=learning_rate)\n",
    "criterion = nn.MSELoss()"
   ]
  },
  {
   "cell_type": "code",
   "execution_count": 6,
   "id": "bd4381fd",
   "metadata": {
    "scrolled": true
   },
   "outputs": [
    {
     "name": "stderr",
     "output_type": "stream",
     "text": [
      "/Users/libai/anaconda3/envs/RR/lib/python3.9/site-packages/torch/nn/modules/loss.py:520: UserWarning: Using a target size (torch.Size([32])) that is different to the input size (torch.Size([32, 1])). This will likely lead to incorrect results due to broadcasting. Please ensure they have the same size.\n",
      "  return F.mse_loss(input, target, reduction=self.reduction)\n",
      "/Users/libai/anaconda3/envs/RR/lib/python3.9/site-packages/torch/nn/modules/loss.py:520: UserWarning: Using a target size (torch.Size([8])) that is different to the input size (torch.Size([8, 1])). This will likely lead to incorrect results due to broadcasting. Please ensure they have the same size.\n",
      "  return F.mse_loss(input, target, reduction=self.reduction)\n"
     ]
    },
    {
     "name": "stdout",
     "output_type": "stream",
     "text": [
      "Epoch 1/50, Loss: 0.34596234234049916\n",
      "Epoch 2/50, Loss: 0.2722171812783927\n",
      "Epoch 3/50, Loss: 0.24700147286057472\n",
      "Epoch 4/50, Loss: 0.22438882989808917\n",
      "Epoch 5/50, Loss: 0.21077052131295204\n",
      "Epoch 6/50, Loss: 0.19836670230142772\n",
      "Epoch 7/50, Loss: 0.18632018263451755\n",
      "Epoch 8/50, Loss: 0.17391128418967128\n",
      "Epoch 9/50, Loss: 0.17174197966232896\n",
      "Epoch 10/50, Loss: 0.15881346142850816\n",
      "Epoch 11/50, Loss: 0.1563244671560824\n",
      "Epoch 12/50, Loss: 0.15171588864177465\n",
      "Epoch 13/50, Loss: 0.1391624074894935\n",
      "Epoch 14/50, Loss: 0.137031233869493\n",
      "Epoch 15/50, Loss: 0.1351512351538986\n",
      "Epoch 16/50, Loss: 0.12719742092303932\n",
      "Epoch 17/50, Loss: 0.12180925044231117\n",
      "Epoch 18/50, Loss: 0.12113561015576124\n",
      "Epoch 19/50, Loss: 0.1166975584346801\n",
      "Epoch 20/50, Loss: 0.11368030915036798\n",
      "Epoch 21/50, Loss: 0.11073828092776239\n",
      "Epoch 22/50, Loss: 0.10603262367658317\n",
      "Epoch 23/50, Loss: 0.1043703742325306\n",
      "Epoch 24/50, Loss: 0.10124758118763566\n",
      "Epoch 25/50, Loss: 0.09947195276618004\n",
      "Epoch 26/50, Loss: 0.1015332406386733\n",
      "Epoch 27/50, Loss: 0.09640517341904342\n",
      "Epoch 28/50, Loss: 0.09633931936696172\n",
      "Epoch 29/50, Loss: 0.09601966291666031\n",
      "Epoch 30/50, Loss: 0.09607846639119089\n",
      "Epoch 31/50, Loss: 0.09634587378241122\n",
      "Epoch 32/50, Loss: 0.09380601719021797\n",
      "Epoch 33/50, Loss: 0.09535869909450412\n",
      "Epoch 34/50, Loss: 0.0939114224165678\n",
      "Epoch 35/50, Loss: 0.09326284192502499\n",
      "Epoch 36/50, Loss: 0.0924713130807504\n",
      "Epoch 37/50, Loss: 0.09108611894771457\n",
      "Epoch 38/50, Loss: 0.0915623470209539\n",
      "Epoch 39/50, Loss: 0.09072667243890464\n",
      "Epoch 40/50, Loss: 0.09054725558962673\n",
      "Epoch 41/50, Loss: 0.09108860325068235\n",
      "Epoch 42/50, Loss: 0.09001116151921451\n",
      "Epoch 43/50, Loss: 0.09086899156682193\n",
      "Epoch 44/50, Loss: 0.0899234008975327\n",
      "Epoch 45/50, Loss: 0.09024720638990402\n",
      "Epoch 46/50, Loss: 0.08981053752359003\n",
      "Epoch 47/50, Loss: 0.08970609947573394\n",
      "Epoch 48/50, Loss: 0.0905271724332124\n",
      "Epoch 49/50, Loss: 0.09129780204966664\n",
      "Epoch 50/50, Loss: 0.08905518229585141\n"
     ]
    }
   ],
   "source": [
    "# Training loop\n",
    "for epoch in range(num_epochs):\n",
    "    total_loss = 0.0\n",
    "    for user_feats, item_feats, targets in data_loader:\n",
    "        model.train()\n",
    "        optimizer.zero_grad()\n",
    "        \n",
    "        user_embeds, item_embeds = model(user_feats, item_feats)\n",
    "        cos_sim = nn.functional.cosine_similarity(user_embeds, item_embeds)\n",
    "        loss = criterion(cos_sim.unsqueeze(1), targets)\n",
    "        loss.backward()\n",
    "        optimizer.step()\n",
    "        total_loss += loss.item()\n",
    "    \n",
    "    print(f\"Epoch {epoch+1}/{num_epochs}, Loss: {total_loss/len(data_loader)}\")"
   ]
  },
  {
   "cell_type": "code",
   "execution_count": null,
   "id": "663ce4ca",
   "metadata": {},
   "outputs": [],
   "source": []
  },
  {
   "cell_type": "code",
   "execution_count": null,
   "id": "bf40aa0e",
   "metadata": {},
   "outputs": [],
   "source": []
  }
 ],
 "metadata": {
  "kernelspec": {
   "display_name": "RR",
   "language": "python",
   "name": "rr"
  },
  "language_info": {
   "codemirror_mode": {
    "name": "ipython",
    "version": 3
   },
   "file_extension": ".py",
   "mimetype": "text/x-python",
   "name": "python",
   "nbconvert_exporter": "python",
   "pygments_lexer": "ipython3",
   "version": "3.9.17"
  }
 },
 "nbformat": 4,
 "nbformat_minor": 5
}
